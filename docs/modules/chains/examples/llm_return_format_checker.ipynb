{
 "cells": [
  {
   "cell_type": "markdown",
   "id": "856bb884",
   "metadata": {},
   "source": [
    "# LLMReturnFormatCheckerChain \n",
    "\n",
    "Testing out the LLMReturnFormatCheckerChain"
   ]
  },
  {
   "cell_type": "code",
   "execution_count": 24,
   "id": "1f4035dc",
   "metadata": {},
   "outputs": [],
   "source": [
    "from langchain.chains import LLMReturnFormatCheckerChain\n",
    "from langchain.llms import OpenAI\n",
    "\n",
    "llm = OpenAI(model_name='text-davinci-003', temperature=0.1)\n",
    "\n",
    "situation = \"\"\" \n",
    "    Let's play poker. Your name is Tommy and you are a player in a game of No-Limit Texas Hold'em Poker. \n",
    "    You have the cards Ac, Ah. The board is []. You have $100 in your stack. \n",
    "    The pot is $20. You need to put $3 into the pot to play. \n",
    "    The current bet is $3, and you are in seat 9 out of 9. \n",
    "    Your position is in the Cutoff.\n",
    "    \"\"\"\n",
    "\n",
    "valid_actions = \"\"\"\n",
    "    You can call for $5, raise between $6 and $100, or fold for $0\n",
    "\"\"\"\n",
    "\n",
    "call_to_action = \"\"\"\n",
    "    What is the action you would like to take out of the following: ('call', 'raise', 'fold')? \n",
    "\"\"\"\n",
    "\n",
    "action_format = \"\"\"\n",
    "    Specify the amount associated with that action in the format:('action', amount).\n",
    "    For example, if you want to raise by $100, you would respond:('raise', 100).\n",
    "    ONLY return values in this format (no other text is necessary)\n",
    "\"\"\"\n",
    "\n",
    "\n"
   ]
  },
  {
   "cell_type": "code",
   "execution_count": 25,
   "id": "158816e2",
   "metadata": {},
   "outputs": [],
   "source": [
    "return_format_checker_chain = LLMReturnFormatCheckerChain(llm=llm, verbose=True)"
   ]
  },
  {
   "cell_type": "code",
   "execution_count": 26,
   "id": "e57bfee0",
   "metadata": {
    "scrolled": true
   },
   "outputs": [
    {
     "name": "stdout",
     "output_type": "stream",
     "text": [
      "\n",
      "\n",
      "\u001b[1m> Entering new LLMReturnFormatCheckerChain chain...\u001b[0m\n",
      "\n",
      "\n",
      "\u001b[1m> Entering new SequentialChain chain...\u001b[0m\n",
      "\n",
      "\u001b[1m> Finished chain.\u001b[0m\n",
      "\n",
      "\u001b[1m> Finished chain.\u001b[0m\n"
     ]
    },
    {
     "data": {
      "text/plain": [
       "\"('raise', 100)\""
      ]
     },
     "execution_count": 26,
     "metadata": {},
     "output_type": "execute_result"
    }
   ],
   "source": [
    "return_format_checker_chain.run({'situation': situation, \n",
    "                                 'valid_actions': valid_actions,\n",
    "                                 'call_to_action': call_to_action,\n",
    "                                 'action_format': action_format})"
   ]
  },
  {
   "cell_type": "code",
   "execution_count": null,
   "id": "4cda2fbd",
   "metadata": {},
   "outputs": [],
   "source": []
  }
 ],
 "metadata": {
  "kernelspec": {
   "display_name": "Python 3 (ipykernel)",
   "language": "python",
   "name": "python3"
  },
  "language_info": {
   "codemirror_mode": {
    "name": "ipython",
    "version": 3
   },
   "file_extension": ".py",
   "mimetype": "text/x-python",
   "name": "python",
   "nbconvert_exporter": "python",
   "pygments_lexer": "ipython3",
   "version": "3.8.6"
  }
 },
 "nbformat": 4,
 "nbformat_minor": 5
}
